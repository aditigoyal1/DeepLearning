{
 "cells": [
  {
   "cell_type": "code",
   "execution_count": 1,
   "metadata": {},
   "outputs": [
    {
     "name": "stderr",
     "output_type": "stream",
     "text": [
      "Using TensorFlow backend.\n"
     ]
    }
   ],
   "source": [
    "from keras.layers import *\n",
    "from keras.models import Sequential\n",
    "\n",
    "##keras offer two types of API's---Sequential and functional Api\n",
    "\n",
    "\n",
    "#The Keras functional API is the way to go for defining complex models, such as multi-output models, directed acyclic graphs, or models with shared layers."
   ]
  },
  {
   "cell_type": "markdown",
   "metadata": {},
   "source": [
    "# Receptive field"
   ]
  },
  {
   "cell_type": "code",
   "execution_count": 6,
   "metadata": {},
   "outputs": [],
   "source": [
    "#build the model\n",
    "\n",
    "#As we go deep the receptive field of the layer increases.\n",
    "#pooling layer further increases the receptive field of the network---doubling the receptive field.\n",
    "#helps\n",
    "\n",
    "#starting layers detects the smaller details of the network like edges etc\n",
    "#higher layers detect the higher or bigger  details of the network like shape of ear,tailetc.\n",
    "\n",
    "\n",
    "model=Sequential()\n",
    "model.add(Conv2D(32,(3,3),activation='relu',input_shape=(28,28,1))) ###output-shape(32,28-3+1/1,26)\n",
    "model.add(MaxPool2D((2,2))) ##shrink height and weight keeping the channel as it is. here stride is also(2,2)\n",
    "model.add(Conv2D(64,(3,3),activation='relu'))\n",
    "model.add(MaxPool2D((2,2)))\n",
    "model.add(Conv2D(64,(3,3),activation='relu',input_shape=(28,28,1)))\n",
    "model.add(Flatten())\n",
    "model.add(Dense(64,activation='relu'))\n",
    "model.add(Dense(10,activation='softmax'))"
   ]
  },
  {
   "cell_type": "code",
   "execution_count": 7,
   "metadata": {},
   "outputs": [
    {
     "name": "stdout",
     "output_type": "stream",
     "text": [
      "Model: \"sequential_3\"\n",
      "_________________________________________________________________\n",
      "Layer (type)                 Output Shape              Param #   \n",
      "=================================================================\n",
      "conv2d_7 (Conv2D)            (None, 26, 26, 32)        320       \n",
      "_________________________________________________________________\n",
      "max_pooling2d_6 (MaxPooling2 (None, 13, 13, 32)        0         \n",
      "_________________________________________________________________\n",
      "conv2d_8 (Conv2D)            (None, 11, 11, 64)        18496     \n",
      "_________________________________________________________________\n",
      "max_pooling2d_7 (MaxPooling2 (None, 5, 5, 64)          0         \n",
      "_________________________________________________________________\n",
      "conv2d_9 (Conv2D)            (None, 3, 3, 64)          36928     \n",
      "_________________________________________________________________\n",
      "flatten_2 (Flatten)          (None, 576)               0         \n",
      "_________________________________________________________________\n",
      "dense_1 (Dense)              (None, 64)                36928     \n",
      "_________________________________________________________________\n",
      "dense_2 (Dense)              (None, 10)                650       \n",
      "=================================================================\n",
      "Total params: 93,322\n",
      "Trainable params: 93,322\n",
      "Non-trainable params: 0\n",
      "_________________________________________________________________\n"
     ]
    }
   ],
   "source": [
    "model.summary()"
   ]
  },
  {
   "cell_type": "code",
   "execution_count": 8,
   "metadata": {},
   "outputs": [],
   "source": [
    "#later we add some regularization --dropouts\n",
    "\n",
    "from keras.datasets import mnist\n",
    "from keras.utils import to_categorical"
   ]
  },
  {
   "cell_type": "code",
   "execution_count": 9,
   "metadata": {},
   "outputs": [
    {
     "name": "stdout",
     "output_type": "stream",
     "text": [
      "Downloading data from https://s3.amazonaws.com/img-datasets/mnist.npz\n",
      "11493376/11490434 [==============================] - 150s 13us/step\n"
     ]
    }
   ],
   "source": [
    "(XTrain,YTrain),(XTest,YTest)=mnist.load_data()"
   ]
  },
  {
   "cell_type": "code",
   "execution_count": 10,
   "metadata": {},
   "outputs": [
    {
     "name": "stdout",
     "output_type": "stream",
     "text": [
      "(60000, 28, 28)\n",
      "(60000,)\n",
      "(10000, 28, 28)\n",
      "(10000,)\n"
     ]
    }
   ],
   "source": [
    "print(XTrain.shape)\n",
    "print(YTrain.shape)\n",
    "print(XTest.shape)\n",
    "print(YTest.shape)"
   ]
  },
  {
   "cell_type": "code",
   "execution_count": 11,
   "metadata": {},
   "outputs": [],
   "source": [
    "def preprocess_data(X,Y):\n",
    "    X=X.reshape((-1,28,28,1))\n",
    "    X=X/255.0\n",
    "    \n",
    "    Y=to_categorical(Y)\n",
    "    \n",
    "    return X,Y\n"
   ]
  },
  {
   "cell_type": "code",
   "execution_count": 13,
   "metadata": {},
   "outputs": [
    {
     "name": "stdout",
     "output_type": "stream",
     "text": [
      "(60000, 28, 28, 1) (60000, 10)\n"
     ]
    }
   ],
   "source": [
    "Xtrain,Ytrain=preprocess_data(XTrain,YTrain)\n",
    "print(Xtrain.shape,Ytrain.shape)"
   ]
  },
  {
   "cell_type": "code",
   "execution_count": 14,
   "metadata": {},
   "outputs": [
    {
     "name": "stdout",
     "output_type": "stream",
     "text": [
      "(10000, 28, 28, 1) (10000, 10)\n"
     ]
    }
   ],
   "source": [
    "Xtest,Ytest=preprocess_data(XTest,YTest)\n",
    "print(Xtest.shape,Ytest.shape)"
   ]
  },
  {
   "cell_type": "code",
   "execution_count": 15,
   "metadata": {},
   "outputs": [],
   "source": [
    "##compile model\n",
    "\n",
    "model.compile(optimizer='adam',loss='categorical_crossentropy',metrics=['accuracy'])"
   ]
  },
  {
   "cell_type": "code",
   "execution_count": 16,
   "metadata": {},
   "outputs": [],
   "source": [
    "###optimizer--goal of the optimizer is to backpropogate the loss and make changes to the weights in each layer.\n",
    "###categorical_crossentropy ---> it will calculate how close we are from the true probability\n"
   ]
  },
  {
   "cell_type": "code",
   "execution_count": 17,
   "metadata": {},
   "outputs": [
    {
     "name": "stdout",
     "output_type": "stream",
     "text": [
      "Epoch 1/10\n",
      "60000/60000 [==============================] - 36s 593us/step - loss: 0.2483 - accuracy: 0.9251\n",
      "Epoch 2/10\n",
      "60000/60000 [==============================] - 32s 532us/step - loss: 0.0577 - accuracy: 0.9819\n",
      "Epoch 3/10\n",
      "60000/60000 [==============================] - 33s 545us/step - loss: 0.0405 - accuracy: 0.9876\n",
      "Epoch 4/10\n",
      "60000/60000 [==============================] - 33s 547us/step - loss: 0.0315 - accuracy: 0.9899\n",
      "Epoch 5/10\n",
      "60000/60000 [==============================] - 33s 550us/step - loss: 0.0265 - accuracy: 0.9919\n",
      "Epoch 6/10\n",
      "60000/60000 [==============================] - 34s 568us/step - loss: 0.0210 - accuracy: 0.9936\n",
      "Epoch 7/10\n",
      "60000/60000 [==============================] - 33s 552us/step - loss: 0.0182 - accuracy: 0.9941\n",
      "Epoch 8/10\n",
      "60000/60000 [==============================] - 33s 549us/step - loss: 0.0150 - accuracy: 0.9953\n",
      "Epoch 9/10\n",
      "60000/60000 [==============================] - 34s 558us/step - loss: 0.0133 - accuracy: 0.9957\n",
      "Epoch 10/10\n",
      "60000/60000 [==============================] - 33s 547us/step - loss: 0.0116 - accuracy: 0.9960\n"
     ]
    },
    {
     "data": {
      "text/plain": [
       "<keras.callbacks.callbacks.History at 0x2020c9ff6c8>"
      ]
     },
     "execution_count": 17,
     "metadata": {},
     "output_type": "execute_result"
    }
   ],
   "source": [
    "##training\n",
    "\n",
    "model.fit(Xtrain,Ytrain,epochs=10,batch_size=128)"
   ]
  },
  {
   "cell_type": "code",
   "execution_count": 18,
   "metadata": {},
   "outputs": [],
   "source": [
    "#points to remember\n",
    "#1.figure out the hyper parameter of epoch using validation data.\n",
    "#2.Again fit the model using complete dataset before doing the final testing"
   ]
  },
  {
   "cell_type": "code",
   "execution_count": 19,
   "metadata": {},
   "outputs": [
    {
     "name": "stdout",
     "output_type": "stream",
     "text": [
      "10000/10000 [==============================] - 2s 236us/step\n"
     ]
    },
    {
     "data": {
      "text/plain": [
       "[0.032575485446818264, 0.9909999966621399]"
      ]
     },
     "execution_count": 19,
     "metadata": {},
     "output_type": "execute_result"
    }
   ],
   "source": [
    "model.evaluate(Xtest,Ytest)"
   ]
  },
  {
   "cell_type": "code",
   "execution_count": null,
   "metadata": {},
   "outputs": [],
   "source": [
    "##Important point\n",
    "\n",
    "#1.increase the number of channel(filter) as we go the layer.\n",
    "#2.preferred filter is(3,3)\n",
    "#3.pooling is(2,2) with stride of(2,2)\n",
    "#4.At every layer we compressing the information,so in dense layer above layer should have more channels then in the output layer."
   ]
  }
 ],
 "metadata": {
  "kernelspec": {
   "display_name": "Python 3",
   "language": "python",
   "name": "python3"
  },
  "language_info": {
   "codemirror_mode": {
    "name": "ipython",
    "version": 3
   },
   "file_extension": ".py",
   "mimetype": "text/x-python",
   "name": "python",
   "nbconvert_exporter": "python",
   "pygments_lexer": "ipython3",
   "version": "3.7.4"
  }
 },
 "nbformat": 4,
 "nbformat_minor": 2
}
