{
 "cells": [
  {
   "cell_type": "markdown",
   "metadata": {},
   "source": [
    "# Image Pipeline\n",
    "\n",
    "Real life datasets can be large or small.\n",
    "\n",
    "Image pipeline are an efficient way to handle large datasets"
   ]
  },
  {
   "cell_type": "markdown",
   "metadata": {},
   "source": [
    "# Data Augmentation\n",
    "\n",
    "Deep Learning Models are \"Data Hungry\"\n",
    "\n",
    "Small Datasets lead to overfitting most of the times\n",
    "\n",
    "So lets generate more data by augmentating the training samples"
   ]
  },
  {
   "cell_type": "markdown",
   "metadata": {},
   "source": [
    "### data augmentation is a technique of augmenting data which acts as a regularization hence reduces overfitting"
   ]
  },
  {
   "cell_type": "code",
   "execution_count": 1,
   "metadata": {},
   "outputs": [
    {
     "name": "stderr",
     "output_type": "stream",
     "text": [
      "Using TensorFlow backend.\n"
     ]
    }
   ],
   "source": [
    "import numpy as np\n",
    "import keras\n",
    "from keras.preprocessing import image\n",
    "from keras.preprocessing.image import ImageDataGenerator"
   ]
  },
  {
   "cell_type": "code",
   "execution_count": 2,
   "metadata": {},
   "outputs": [],
   "source": [
    "\n",
    "train_image_gen=ImageDataGenerator(\n",
    "        rescale=1/255.0,\n",
    "        rotation_range=40,\n",
    "        width_shift_range=0.2,\n",
    "        height_shift_range=0.2,\n",
    "        shear_range=0.2,\n",
    "        zoom_range=0.3,\n",
    "        horizontal_flip=True\n",
    "\n",
    ")\n",
    "\n",
    "test_gen =ImageDataGenerator(\n",
    "rescale=1/255.0)"
   ]
  },
  {
   "cell_type": "code",
   "execution_count": 3,
   "metadata": {},
   "outputs": [
    {
     "name": "stdout",
     "output_type": "stream",
     "text": [
      "Found 100000 images belonging to 200 classes.\n"
     ]
    }
   ],
   "source": [
    "#flow_from_directory method itself creates the mapping of classes and images based on the no of sub directory present in the folder.\n",
    "train_gen=train_image_gen.flow_from_directory(\"tiny-imagenet-200/train\",target_size=(224,224),\n",
    "                                             batch_size=128,\n",
    "                                             class_mode='categorical')"
   ]
  },
  {
   "cell_type": "code",
   "execution_count": 4,
   "metadata": {},
   "outputs": [
    {
     "data": {
      "text/plain": [
       "{'n01443537': 0,\n",
       " 'n01629819': 1,\n",
       " 'n01641577': 2,\n",
       " 'n01644900': 3,\n",
       " 'n01698640': 4,\n",
       " 'n01742172': 5,\n",
       " 'n01768244': 6,\n",
       " 'n01770393': 7,\n",
       " 'n01774384': 8,\n",
       " 'n01774750': 9,\n",
       " 'n01784675': 10,\n",
       " 'n01855672': 11,\n",
       " 'n01882714': 12,\n",
       " 'n01910747': 13,\n",
       " 'n01917289': 14,\n",
       " 'n01944390': 15,\n",
       " 'n01945685': 16,\n",
       " 'n01950731': 17,\n",
       " 'n01983481': 18,\n",
       " 'n01984695': 19,\n",
       " 'n02002724': 20,\n",
       " 'n02056570': 21,\n",
       " 'n02058221': 22,\n",
       " 'n02074367': 23,\n",
       " 'n02085620': 24,\n",
       " 'n02094433': 25,\n",
       " 'n02099601': 26,\n",
       " 'n02099712': 27,\n",
       " 'n02106662': 28,\n",
       " 'n02113799': 29,\n",
       " 'n02123045': 30,\n",
       " 'n02123394': 31,\n",
       " 'n02124075': 32,\n",
       " 'n02125311': 33,\n",
       " 'n02129165': 34,\n",
       " 'n02132136': 35,\n",
       " 'n02165456': 36,\n",
       " 'n02190166': 37,\n",
       " 'n02206856': 38,\n",
       " 'n02226429': 39,\n",
       " 'n02231487': 40,\n",
       " 'n02233338': 41,\n",
       " 'n02236044': 42,\n",
       " 'n02268443': 43,\n",
       " 'n02279972': 44,\n",
       " 'n02281406': 45,\n",
       " 'n02321529': 46,\n",
       " 'n02364673': 47,\n",
       " 'n02395406': 48,\n",
       " 'n02403003': 49,\n",
       " 'n02410509': 50,\n",
       " 'n02415577': 51,\n",
       " 'n02423022': 52,\n",
       " 'n02437312': 53,\n",
       " 'n02480495': 54,\n",
       " 'n02481823': 55,\n",
       " 'n02486410': 56,\n",
       " 'n02504458': 57,\n",
       " 'n02509815': 58,\n",
       " 'n02666196': 59,\n",
       " 'n02669723': 60,\n",
       " 'n02699494': 61,\n",
       " 'n02730930': 62,\n",
       " 'n02769748': 63,\n",
       " 'n02788148': 64,\n",
       " 'n02791270': 65,\n",
       " 'n02793495': 66,\n",
       " 'n02795169': 67,\n",
       " 'n02802426': 68,\n",
       " 'n02808440': 69,\n",
       " 'n02814533': 70,\n",
       " 'n02814860': 71,\n",
       " 'n02815834': 72,\n",
       " 'n02823428': 73,\n",
       " 'n02837789': 74,\n",
       " 'n02841315': 75,\n",
       " 'n02843684': 76,\n",
       " 'n02883205': 77,\n",
       " 'n02892201': 78,\n",
       " 'n02906734': 79,\n",
       " 'n02909870': 80,\n",
       " 'n02917067': 81,\n",
       " 'n02927161': 82,\n",
       " 'n02948072': 83,\n",
       " 'n02950826': 84,\n",
       " 'n02963159': 85,\n",
       " 'n02977058': 86,\n",
       " 'n02988304': 87,\n",
       " 'n02999410': 88,\n",
       " 'n03014705': 89,\n",
       " 'n03026506': 90,\n",
       " 'n03042490': 91,\n",
       " 'n03085013': 92,\n",
       " 'n03089624': 93,\n",
       " 'n03100240': 94,\n",
       " 'n03126707': 95,\n",
       " 'n03160309': 96,\n",
       " 'n03179701': 97,\n",
       " 'n03201208': 98,\n",
       " 'n03250847': 99,\n",
       " 'n03255030': 100,\n",
       " 'n03355925': 101,\n",
       " 'n03388043': 102,\n",
       " 'n03393912': 103,\n",
       " 'n03400231': 104,\n",
       " 'n03404251': 105,\n",
       " 'n03424325': 106,\n",
       " 'n03444034': 107,\n",
       " 'n03447447': 108,\n",
       " 'n03544143': 109,\n",
       " 'n03584254': 110,\n",
       " 'n03599486': 111,\n",
       " 'n03617480': 112,\n",
       " 'n03637318': 113,\n",
       " 'n03649909': 114,\n",
       " 'n03662601': 115,\n",
       " 'n03670208': 116,\n",
       " 'n03706229': 117,\n",
       " 'n03733131': 118,\n",
       " 'n03763968': 119,\n",
       " 'n03770439': 120,\n",
       " 'n03796401': 121,\n",
       " 'n03804744': 122,\n",
       " 'n03814639': 123,\n",
       " 'n03837869': 124,\n",
       " 'n03838899': 125,\n",
       " 'n03854065': 126,\n",
       " 'n03891332': 127,\n",
       " 'n03902125': 128,\n",
       " 'n03930313': 129,\n",
       " 'n03937543': 130,\n",
       " 'n03970156': 131,\n",
       " 'n03976657': 132,\n",
       " 'n03977966': 133,\n",
       " 'n03980874': 134,\n",
       " 'n03983396': 135,\n",
       " 'n03992509': 136,\n",
       " 'n04008634': 137,\n",
       " 'n04023962': 138,\n",
       " 'n04067472': 139,\n",
       " 'n04070727': 140,\n",
       " 'n04074963': 141,\n",
       " 'n04099969': 142,\n",
       " 'n04118538': 143,\n",
       " 'n04133789': 144,\n",
       " 'n04146614': 145,\n",
       " 'n04149813': 146,\n",
       " 'n04179913': 147,\n",
       " 'n04251144': 148,\n",
       " 'n04254777': 149,\n",
       " 'n04259630': 150,\n",
       " 'n04265275': 151,\n",
       " 'n04275548': 152,\n",
       " 'n04285008': 153,\n",
       " 'n04311004': 154,\n",
       " 'n04328186': 155,\n",
       " 'n04356056': 156,\n",
       " 'n04366367': 157,\n",
       " 'n04371430': 158,\n",
       " 'n04376876': 159,\n",
       " 'n04398044': 160,\n",
       " 'n04399382': 161,\n",
       " 'n04417672': 162,\n",
       " 'n04456115': 163,\n",
       " 'n04465501': 164,\n",
       " 'n04486054': 165,\n",
       " 'n04487081': 166,\n",
       " 'n04501370': 167,\n",
       " 'n04507155': 168,\n",
       " 'n04532106': 169,\n",
       " 'n04532670': 170,\n",
       " 'n04540053': 171,\n",
       " 'n04560804': 172,\n",
       " 'n04562935': 173,\n",
       " 'n04596742': 174,\n",
       " 'n04597913': 175,\n",
       " 'n06596364': 176,\n",
       " 'n07579787': 177,\n",
       " 'n07583066': 178,\n",
       " 'n07614500': 179,\n",
       " 'n07615774': 180,\n",
       " 'n07695742': 181,\n",
       " 'n07711569': 182,\n",
       " 'n07715103': 183,\n",
       " 'n07720875': 184,\n",
       " 'n07734744': 185,\n",
       " 'n07747607': 186,\n",
       " 'n07749582': 187,\n",
       " 'n07753592': 188,\n",
       " 'n07768694': 189,\n",
       " 'n07871810': 190,\n",
       " 'n07873807': 191,\n",
       " 'n07875152': 192,\n",
       " 'n07920052': 193,\n",
       " 'n09193705': 194,\n",
       " 'n09246464': 195,\n",
       " 'n09256479': 196,\n",
       " 'n09332890': 197,\n",
       " 'n09428293': 198,\n",
       " 'n12267677': 199}"
      ]
     },
     "execution_count": 4,
     "metadata": {},
     "output_type": "execute_result"
    }
   ],
   "source": [
    "train_gen.class_indices"
   ]
  },
  {
   "cell_type": "code",
   "execution_count": 5,
   "metadata": {},
   "outputs": [
    {
     "name": "stdout",
     "output_type": "stream",
     "text": [
      "(128, 224, 224, 3) (128, 200)\n"
     ]
    },
    {
     "data": {
      "text/plain": [
       "<Figure size 640x480 with 1 Axes>"
      ]
     },
     "metadata": {},
     "output_type": "display_data"
    },
    {
     "data": {
      "text/plain": [
       "<Figure size 640x480 with 1 Axes>"
      ]
     },
     "metadata": {},
     "output_type": "display_data"
    },
    {
     "data": {
      "text/plain": [
       "<Figure size 640x480 with 1 Axes>"
      ]
     },
     "metadata": {},
     "output_type": "display_data"
    },
    {
     "data": {
      "text/plain": [
       "<Figure size 640x480 with 1 Axes>"
      ]
     },
     "metadata": {},
     "output_type": "display_data"
    },
    {
     "data": {
      "text/plain": [
       "<Figure size 640x480 with 1 Axes>"
      ]
     },
     "metadata": {},
     "output_type": "display_data"
    },
    {
     "data": {
      "text/plain": [
       "<Figure size 640x480 with 1 Axes>"
      ]
     },
     "metadata": {},
     "output_type": "display_data"
    },
    {
     "data": {
      "text/plain": [
       "<Figure size 640x480 with 1 Axes>"
      ]
     },
     "metadata": {},
     "output_type": "display_data"
    },
    {
     "data": {
      "text/plain": [
       "<Figure size 640x480 with 1 Axes>"
      ]
     },
     "metadata": {},
     "output_type": "display_data"
    },
    {
     "data": {
      "text/plain": [
       "<Figure size 640x480 with 1 Axes>"
      ]
     },
     "metadata": {},
     "output_type": "display_data"
    },
    {
     "data": {
      "text/plain": [
       "<Figure size 640x480 with 1 Axes>"
      ]
     },
     "metadata": {},
     "output_type": "display_data"
    }
   ],
   "source": [
    "#here 128=batch_size(in one epoch how many images u take)\n",
    "#y is one-hot encoded\n",
    "\n",
    "import matplotlib.pyplot as plt\n",
    "for (x,y) in train_gen:\n",
    "        print(x.shape,y.shape)\n",
    "        \n",
    "        for i in range(10):\n",
    "            plt.imshow(x[i])\n",
    "            plt.show()\n",
    "        break"
   ]
  },
  {
   "cell_type": "markdown",
   "metadata": {},
   "source": [
    "In each epoch slightly diff augmentation is followed,\n",
    "so 128 images(batch_size) are augmented differently everytime in every epoch.\n",
    "\n"
   ]
  },
  {
   "cell_type": "code",
   "execution_count": 6,
   "metadata": {},
   "outputs": [],
   "source": [
    "import os\n",
    "class_ids=train_gen.class_indices"
   ]
  },
  {
   "cell_type": "code",
   "execution_count": 7,
   "metadata": {},
   "outputs": [],
   "source": [
    "def load_validation_data(target_size,no_of_classes):\n",
    "    with open(\"tiny-imagenet-200/val/val_annotations.txt\") as f:\n",
    "        lines=f.readlines()\n",
    "        \n",
    "        m=len(lines)\n",
    "        print(m)\n",
    "        X=np.empty((m,*target_size,3)) # B,W,H,3\n",
    "        Y=np.empty(m)\n",
    "        \n",
    "        for i,line in enumerate(lines):\n",
    "            tokens=line.split()\n",
    "            img_name=tokens[0]\n",
    "            img_label=tokens[1]\n",
    "            \n",
    "            img_path=os.path.join(\"tiny-imagenet-200/val/images\",img_name)\n",
    "            img=image.load_img(img_path)\n",
    "            img=img.resize(target_size)\n",
    "            \n",
    "            X[i,]=np.array(img,dtype=np.float32)/255.0\n",
    "            img.close()\n",
    "            Y[i]=class_ids[img_label]\n",
    "            \n",
    "         \n",
    "        return X,keras.utils.to_categorical(Y,num_classes=no_of_classes)"
   ]
  },
  {
   "cell_type": "code",
   "execution_count": null,
   "metadata": {},
   "outputs": [
    {
     "name": "stdout",
     "output_type": "stream",
     "text": [
      "10000\n"
     ]
    }
   ],
   "source": [
    "X_val,Y_val=load_validation_data((224,224),200)"
   ]
  },
  {
   "cell_type": "code",
   "execution_count": null,
   "metadata": {},
   "outputs": [],
   "source": [
    "prin"
   ]
  }
 ],
 "metadata": {
  "kernelspec": {
   "display_name": "Python 3",
   "language": "python",
   "name": "python3"
  },
  "language_info": {
   "codemirror_mode": {
    "name": "ipython",
    "version": 3
   },
   "file_extension": ".py",
   "mimetype": "text/x-python",
   "name": "python",
   "nbconvert_exporter": "python",
   "pygments_lexer": "ipython3",
   "version": "3.7.4"
  }
 },
 "nbformat": 4,
 "nbformat_minor": 2
}
