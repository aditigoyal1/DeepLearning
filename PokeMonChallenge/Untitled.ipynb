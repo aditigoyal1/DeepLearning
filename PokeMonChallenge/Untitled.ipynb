{
 "cells": [
  {
   "cell_type": "markdown",
   "metadata": {},
   "source": [
    "# Building a Pokemon Classifier #"
   ]
  },
  {
   "cell_type": "markdown",
   "metadata": {},
   "source": [
    "Train:\n",
    "The train folder consists of a folder named Images which contains the images of three types of pokemon and a csv file which maps the images in the image folder to the name of that pokemon, The csv contains the field ImageId which is nothing but unique name given to each image and other field is NameOfPokemon which gives the pokemon name associated with that image.\n",
    "\n",
    "Test:\n",
    "Test also contains an image folder on which your model will be tested on and also there is a test csv file which only contains the name or ImageId of the image and gives the order in which each image is to be labelled ."
   ]
  },
  {
   "cell_type": "code",
   "execution_count": 1,
   "metadata": {},
   "outputs": [
    {
     "name": "stdout",
     "output_type": "stream",
     "text": [
      "Requirement already satisfied: keras in c:\\users\\admin\\anaconda3\\lib\\site-packages (2.3.1)\n",
      "Requirement already satisfied: h5py in c:\\users\\admin\\anaconda3\\lib\\site-packages (from keras) (2.9.0)\n",
      "Requirement already satisfied: numpy>=1.9.1 in c:\\users\\admin\\anaconda3\\lib\\site-packages (from keras) (1.16.5)\n",
      "Requirement already satisfied: six>=1.9.0 in c:\\users\\admin\\anaconda3\\lib\\site-packages (from keras) (1.12.0)\n",
      "Requirement already satisfied: keras-preprocessing>=1.0.5 in c:\\users\\admin\\anaconda3\\lib\\site-packages (from keras) (1.1.0)\n",
      "Requirement already satisfied: pyyaml in c:\\users\\admin\\anaconda3\\lib\\site-packages (from keras) (5.1.2)\n",
      "Requirement already satisfied: keras-applications>=1.0.6 in c:\\users\\admin\\anaconda3\\lib\\site-packages (from keras) (1.0.8)\n",
      "Requirement already satisfied: scipy>=0.14 in c:\\users\\admin\\anaconda3\\lib\\site-packages (from keras) (1.3.1)\n"
     ]
    },
    {
     "name": "stderr",
     "output_type": "stream",
     "text": [
      "Using TensorFlow backend.\n"
     ]
    }
   ],
   "source": [
    "!pip install keras\n",
    "import os\n",
    "from pathlib import Path\n",
    "from keras.preprocessing import image\n",
    "import matplotlib.pyplot as plt "
   ]
  },
  {
   "cell_type": "code",
   "execution_count": 2,
   "metadata": {},
   "outputs": [
    {
     "name": "stdout",
     "output_type": "stream",
     "text": [
      "the current path .\n",
      "Absolute path C:\\Users\\Admin\\Desktop\\datascience\\NeuralNetwork\\PokemonChallenge\n",
      "Absolute path \n"
     ]
    }
   ],
   "source": [
    "##path practice\n",
    "from os import path\n",
    "\n",
    "print(\"the current path %s\" %path.curdir)\n",
    "print(\"Absolute path %s\"%path.abspath(path.curdir))\n",
    "print(\"Absolute path %s\"%path.dirname(path.curdir))"
   ]
  },
  {
   "cell_type": "code",
   "execution_count": 3,
   "metadata": {},
   "outputs": [
    {
     "data": {
      "text/plain": [
       "{'ImageId': 'NameOfPokemon',\n",
       " '296.jpg': 'Pikachu',\n",
       " '297.jpg': 'Pikachu',\n",
       " '298.jpg': 'Pikachu',\n",
       " '299.jpg': 'Pikachu',\n",
       " '300.jpg': 'Pikachu',\n",
       " '301.jpg': 'Pikachu',\n",
       " '302.jpg': 'Pikachu',\n",
       " '303.jpg': 'Pikachu',\n",
       " '304.jpg': 'Pikachu',\n",
       " '305.jpg': 'Pikachu',\n",
       " '306.jpg': 'Pikachu',\n",
       " '307.jpg': 'Pikachu',\n",
       " '308.jpg': 'Pikachu',\n",
       " '309.jpg': 'Pikachu',\n",
       " '310.jpg': 'Pikachu',\n",
       " '311.jpg': 'Pikachu',\n",
       " '312.jpg': 'Pikachu',\n",
       " '313.jpg': 'Pikachu',\n",
       " '314.jpg': 'Pikachu',\n",
       " '315.jpg': 'Pikachu',\n",
       " '316.jpg': 'Pikachu',\n",
       " '317.jpg': 'Pikachu',\n",
       " '318.jpg': 'Pikachu',\n",
       " '319.jpg': 'Pikachu',\n",
       " '320.jpg': 'Pikachu',\n",
       " '321.jpg': 'Pikachu',\n",
       " '322.jpg': 'Pikachu',\n",
       " '323.jpg': 'Pikachu',\n",
       " '324.jpg': 'Pikachu',\n",
       " '325.jpg': 'Pikachu',\n",
       " '326.jpg': 'Pikachu',\n",
       " '327.jpg': 'Pikachu',\n",
       " '328.jpg': 'Pikachu',\n",
       " '329.jpg': 'Pikachu',\n",
       " '330.jpg': 'Pikachu',\n",
       " '331.jpg': 'Pikachu',\n",
       " '332.jpg': 'Pikachu',\n",
       " '333.jpg': 'Pikachu',\n",
       " '334.jpg': 'Pikachu',\n",
       " '335.jpg': 'Pikachu',\n",
       " '336.jpg': 'Pikachu',\n",
       " '337.jpg': 'Pikachu',\n",
       " '338.jpg': 'Pikachu',\n",
       " '339.jpg': 'Pikachu',\n",
       " '340.jpg': 'Pikachu',\n",
       " '341.jpg': 'Pikachu',\n",
       " '342.jpg': 'Pikachu',\n",
       " '343.jpg': 'Pikachu',\n",
       " '344.jpg': 'Pikachu',\n",
       " '345.jpg': 'Pikachu',\n",
       " '346.jpg': 'Pikachu',\n",
       " '347.jpg': 'Pikachu',\n",
       " '348.jpg': 'Pikachu',\n",
       " '349.jpg': 'Pikachu',\n",
       " '350.jpg': 'Pikachu',\n",
       " '351.jpg': 'Pikachu',\n",
       " '352.jpg': 'Pikachu',\n",
       " '353.jpg': 'Pikachu',\n",
       " '354.jpg': 'Pikachu',\n",
       " '355.jpg': 'Pikachu',\n",
       " '356.jpg': 'Pikachu',\n",
       " '357.jpg': 'Pikachu',\n",
       " '358.jpg': 'Pikachu',\n",
       " '359.jpg': 'Pikachu',\n",
       " '360.jpg': 'Pikachu',\n",
       " '361.jpg': 'Pikachu',\n",
       " '362.jpg': 'Pikachu',\n",
       " '363.jpg': 'Pikachu',\n",
       " '364.jpg': 'Pikachu',\n",
       " '365.jpg': 'Pikachu',\n",
       " '366.jpg': 'Pikachu',\n",
       " '367.jpg': 'Pikachu',\n",
       " '368.jpg': 'Pikachu',\n",
       " '369.jpg': 'Pikachu',\n",
       " '370.jpg': 'Pikachu',\n",
       " '371.jpg': 'Pikachu',\n",
       " '372.jpg': 'Pikachu',\n",
       " '373.jpg': 'Pikachu',\n",
       " '374.jpg': 'Pikachu',\n",
       " '375.jpg': 'Pikachu',\n",
       " '376.jpg': 'Pikachu',\n",
       " '377.jpg': 'Pikachu',\n",
       " '378.jpg': 'Pikachu',\n",
       " '379.jpg': 'Pikachu',\n",
       " '380.jpg': 'Pikachu',\n",
       " '381.jpg': 'Pikachu',\n",
       " '382.jpg': 'Pikachu',\n",
       " '383.jpg': 'Pikachu',\n",
       " '384.jpg': 'Pikachu',\n",
       " '385.jpg': 'Pikachu',\n",
       " '386.jpg': 'Pikachu',\n",
       " '387.jpg': 'Pikachu',\n",
       " '388.jpg': 'Pikachu',\n",
       " '389.jpg': 'Pikachu',\n",
       " '390.jpg': 'Pikachu',\n",
       " '391.jpg': 'Pikachu',\n",
       " '392.jpg': 'Pikachu',\n",
       " '393.jpg': 'Pikachu',\n",
       " '394.jpg': 'Pikachu',\n",
       " '395.jpg': 'Pikachu',\n",
       " '396.jpg': 'Pikachu',\n",
       " '397.jpg': 'Bulbasaur',\n",
       " '398.jpg': 'Bulbasaur',\n",
       " '399.jpg': 'Bulbasaur',\n",
       " '400.jpg': 'Bulbasaur',\n",
       " '401.jpg': 'Bulbasaur',\n",
       " '402.jpg': 'Bulbasaur',\n",
       " '403.jpg': 'Bulbasaur',\n",
       " '404.jpg': 'Bulbasaur',\n",
       " '405.jpg': 'Bulbasaur',\n",
       " '406.jpg': 'Bulbasaur',\n",
       " '407.jpg': 'Bulbasaur',\n",
       " '408.jpg': 'Bulbasaur',\n",
       " '409.jpg': 'Bulbasaur',\n",
       " '410.jpg': 'Bulbasaur',\n",
       " '411.jpg': 'Bulbasaur',\n",
       " '412.jpg': 'Bulbasaur',\n",
       " '413.jpg': 'Bulbasaur',\n",
       " '414.jpg': 'Bulbasaur',\n",
       " '415.jpg': 'Bulbasaur',\n",
       " '416.jpg': 'Bulbasaur',\n",
       " '417.jpg': 'Bulbasaur',\n",
       " '418.jpg': 'Bulbasaur',\n",
       " '419.jpg': 'Bulbasaur',\n",
       " '420.jpg': 'Bulbasaur',\n",
       " '421.jpg': 'Bulbasaur',\n",
       " '422.jpg': 'Bulbasaur',\n",
       " '423.jpg': 'Bulbasaur',\n",
       " '424.jpg': 'Bulbasaur',\n",
       " '425.jpg': 'Bulbasaur',\n",
       " '426.jpg': 'Bulbasaur',\n",
       " '427.jpg': 'Bulbasaur',\n",
       " '428.jpg': 'Bulbasaur',\n",
       " '429.jpg': 'Bulbasaur',\n",
       " '430.jpg': 'Bulbasaur',\n",
       " '431.jpg': 'Bulbasaur',\n",
       " '432.jpg': 'Bulbasaur',\n",
       " '433.jpg': 'Bulbasaur',\n",
       " '434.jpg': 'Bulbasaur',\n",
       " '435.jpg': 'Bulbasaur',\n",
       " '436.jpg': 'Bulbasaur',\n",
       " '437.jpg': 'Bulbasaur',\n",
       " '438.jpg': 'Bulbasaur',\n",
       " '439.jpg': 'Bulbasaur',\n",
       " '440.jpg': 'Bulbasaur',\n",
       " '441.jpg': 'Bulbasaur',\n",
       " '442.jpg': 'Bulbasaur',\n",
       " '443.jpg': 'Bulbasaur',\n",
       " '444.jpg': 'Bulbasaur',\n",
       " '445.jpg': 'Bulbasaur',\n",
       " '446.jpg': 'Bulbasaur',\n",
       " '447.jpg': 'Bulbasaur',\n",
       " '448.jpg': 'Bulbasaur',\n",
       " '449.jpg': 'Bulbasaur',\n",
       " '450.jpg': 'Bulbasaur',\n",
       " '451.jpg': 'Bulbasaur',\n",
       " '452.jpg': 'Bulbasaur',\n",
       " '453.jpg': 'Bulbasaur',\n",
       " '454.jpg': 'Bulbasaur',\n",
       " '455.jpg': 'Bulbasaur',\n",
       " '456.jpg': 'Bulbasaur',\n",
       " '457.jpg': 'Bulbasaur',\n",
       " '458.jpg': 'Bulbasaur',\n",
       " '459.jpg': 'Bulbasaur',\n",
       " '460.jpg': 'Bulbasaur',\n",
       " '461.jpg': 'Bulbasaur',\n",
       " '462.jpg': 'Bulbasaur',\n",
       " '463.jpg': 'Bulbasaur',\n",
       " '464.jpg': 'Bulbasaur',\n",
       " '465.jpg': 'Bulbasaur',\n",
       " '466.jpg': 'Bulbasaur',\n",
       " '467.jpg': 'Bulbasaur',\n",
       " '468.jpg': 'Bulbasaur',\n",
       " '469.jpg': 'Bulbasaur',\n",
       " '470.jpg': 'Bulbasaur',\n",
       " '471.jpg': 'Bulbasaur',\n",
       " '472.jpg': 'Bulbasaur',\n",
       " '473.jpg': 'Bulbasaur',\n",
       " '474.jpg': 'Bulbasaur',\n",
       " '475.jpg': 'Bulbasaur',\n",
       " '476.jpg': 'Bulbasaur',\n",
       " '477.jpg': 'Bulbasaur',\n",
       " '478.jpg': 'Bulbasaur',\n",
       " '479.jpg': 'Bulbasaur',\n",
       " '480.jpg': 'Bulbasaur',\n",
       " '481.jpg': 'Bulbasaur',\n",
       " '482.jpg': 'Bulbasaur',\n",
       " '483.jpg': 'Bulbasaur',\n",
       " '484.jpg': 'Bulbasaur',\n",
       " '485.jpg': 'Bulbasaur',\n",
       " '486.jpg': 'Bulbasaur',\n",
       " '487.jpg': 'Bulbasaur',\n",
       " '488.jpg': 'Bulbasaur',\n",
       " '489.jpg': 'Bulbasaur',\n",
       " '490.jpg': 'Bulbasaur',\n",
       " '491.jpg': 'Bulbasaur',\n",
       " '492.jpg': 'Bulbasaur',\n",
       " '493.jpg': 'Bulbasaur',\n",
       " '494.jpg': 'Bulbasaur',\n",
       " '495.jpg': 'Bulbasaur',\n",
       " '496.jpg': 'Bulbasaur',\n",
       " '497.jpg': 'Bulbasaur',\n",
       " '498.jpg': 'Charmander',\n",
       " '520.jpg': 'Charmander',\n",
       " '521.jpg': 'Charmander',\n",
       " '522.jpg': 'Charmander',\n",
       " '523.jpg': 'Charmander',\n",
       " '524.jpg': 'Charmander',\n",
       " '525.jpg': 'Charmander',\n",
       " '526.jpg': 'Charmander',\n",
       " '527.jpg': 'Charmander',\n",
       " '528.jpg': 'Charmander',\n",
       " '529.jpg': 'Charmander',\n",
       " '530.jpg': 'Charmander',\n",
       " '531.jpg': 'Charmander',\n",
       " '532.jpg': 'Charmander',\n",
       " '533.jpg': 'Charmander',\n",
       " '534.jpg': 'Charmander',\n",
       " '535.jpg': 'Charmander',\n",
       " '536.jpg': 'Charmander',\n",
       " '537.jpg': 'Charmander',\n",
       " '538.jpg': 'Charmander',\n",
       " '539.jpg': 'Charmander',\n",
       " '540.jpg': 'Charmander',\n",
       " '541.jpg': 'Charmander',\n",
       " '542.jpg': 'Charmander',\n",
       " '543.jpg': 'Charmander',\n",
       " '544.jpg': 'Charmander',\n",
       " '545.jpg': 'Charmander',\n",
       " '546.jpg': 'Charmander',\n",
       " '547.jpg': 'Charmander',\n",
       " '548.jpg': 'Charmander',\n",
       " '549.jpg': 'Charmander',\n",
       " '550.jpg': 'Charmander',\n",
       " '551.jpg': 'Charmander',\n",
       " '552.jpg': 'Charmander',\n",
       " '553.jpg': 'Charmander',\n",
       " '554.jpg': 'Charmander',\n",
       " '555.jpg': 'Charmander',\n",
       " '556.jpg': 'Charmander',\n",
       " '557.jpg': 'Charmander',\n",
       " '558.jpg': 'Charmander',\n",
       " '559.jpg': 'Charmander',\n",
       " '560.jpg': 'Charmander',\n",
       " '561.jpg': 'Charmander',\n",
       " '562.jpg': 'Charmander',\n",
       " '563.jpg': 'Charmander',\n",
       " '564.jpg': 'Charmander',\n",
       " '565.jpg': 'Charmander',\n",
       " '566.jpg': 'Charmander',\n",
       " '567.jpg': 'Charmander',\n",
       " '568.jpg': 'Charmander',\n",
       " '569.jpg': 'Charmander',\n",
       " '570.jpg': 'Charmander',\n",
       " '571.jpg': 'Charmander',\n",
       " '572.jpg': 'Charmander',\n",
       " '573.jpg': 'Charmander',\n",
       " '574.jpg': 'Charmander',\n",
       " '575.jpg': 'Charmander',\n",
       " '576.jpg': 'Charmander',\n",
       " '577.jpg': 'Charmander',\n",
       " '578.jpg': 'Charmander',\n",
       " '579.jpg': 'Charmander',\n",
       " '580.jpg': 'Charmander',\n",
       " '581.jpg': 'Charmander',\n",
       " '582.jpg': 'Charmander',\n",
       " '583.jpg': 'Charmander',\n",
       " '584.jpg': 'Charmander',\n",
       " '585.jpg': 'Charmander',\n",
       " '586.jpg': 'Charmander',\n",
       " '587.jpg': 'Charmander',\n",
       " '588.jpg': 'Charmander',\n",
       " '589.jpg': 'Charmander',\n",
       " '590.jpg': 'Charmander',\n",
       " '591.jpg': 'Charmander',\n",
       " '592.jpg': 'Charmander',\n",
       " '593.jpg': 'Charmander',\n",
       " '594.jpg': 'Charmander',\n",
       " '595.jpg': 'Charmander',\n",
       " '596.jpg': 'Charmander',\n",
       " '597.jpg': 'Charmander',\n",
       " '598.jpg': 'Charmander',\n",
       " '599.jpg': 'Charmander',\n",
       " '600.jpg': 'Charmander',\n",
       " '601.jpg': 'Charmander',\n",
       " '602.jpg': 'Charmander',\n",
       " '603.jpg': 'Charmander',\n",
       " '604.jpg': 'Charmander',\n",
       " '605.jpg': 'Charmander',\n",
       " '606.jpg': 'Charmander',\n",
       " '607.jpg': 'Charmander',\n",
       " '608.jpg': 'Charmander',\n",
       " '609.jpg': 'Charmander',\n",
       " '610.jpg': 'Charmander',\n",
       " '611.jpg': 'Charmander',\n",
       " '612.jpg': 'Charmander',\n",
       " '613.jpg': 'Charmander',\n",
       " '614.jpg': 'Charmander',\n",
       " '615.jpg': 'Charmander',\n",
       " '616.jpg': 'Charmander',\n",
       " '617.jpg': 'Charmander',\n",
       " '618.jpg': 'Charmander',\n",
       " '619.jpg': 'Charmander',\n",
       " '620.jpg': 'Charmander'}"
      ]
     },
     "execution_count": 3,
     "metadata": {},
     "output_type": "execute_result"
    }
   ],
   "source": [
    "d={}\n",
    "import csv\n",
    "with open(\"train.csv\") as f:\n",
    "    file_data=csv.reader(f)\n",
    "    \n",
    "    for row in file_data:\n",
    "        d[row[0]]=row[1]\n",
    "d        "
   ]
  },
  {
   "cell_type": "code",
   "execution_count": 8,
   "metadata": {
    "scrolled": true
   },
   "outputs": [
    {
     "name": "stdout",
     "output_type": "stream",
     "text": [
      "Images\n",
      "[0, 0, 0, 0, 0, 0, 0, 0, 0, 0, 0, 0, 0, 0, 0, 0, 0, 0, 0, 0, 0, 0, 0, 0, 0, 0, 0, 0, 0, 0, 0, 0, 0, 0, 0, 0, 0, 0, 0, 0, 0, 0, 0, 0, 0, 0, 0, 0, 0, 0, 0, 0, 0, 0, 0, 0, 0, 0, 0, 0, 0, 0, 0, 0, 0, 0, 0, 0, 0, 0, 0, 0, 0, 0, 0, 0, 0, 0, 0, 0, 0, 0, 0, 0, 0, 0, 0, 0, 0, 0, 0, 0, 0, 0, 0, 0, 0, 0, 0, 0, 0, 1, 1, 1, 1, 1, 1, 1, 1, 1, 1, 1, 1, 1, 1, 1, 1, 1, 1, 1, 1, 1, 1, 1, 1, 1, 1, 1, 1, 1, 1, 1, 1, 1, 1, 1, 1, 1, 1, 1, 1, 1, 1, 1, 1, 1, 1, 1, 1, 1, 1, 1, 1, 1, 1, 1, 1, 1, 1, 1, 1, 1, 1, 1, 1, 1, 1, 1, 1, 1, 1, 1, 1, 1, 1, 1, 1, 1, 1, 1, 1, 1, 1, 1, 1, 1, 1, 1, 1, 1, 1, 1, 1, 1, 1, 1, 1, 1, 1, 1, 1, 1, 2, 2, 2, 2, 2, 2, 2, 2, 2, 2, 2, 2, 2, 2, 2, 2, 2, 2, 2, 2, 2, 2, 2, 2, 2, 2, 2, 2, 2, 2, 2, 2, 2, 2, 2, 2, 2, 2, 2, 2, 2, 2, 2, 2, 2, 2, 2, 2, 2, 2, 2, 2, 2, 2, 2, 2, 2, 2, 2, 2, 2, 2, 2, 2, 2, 2, 2, 2, 2, 2, 2, 2, 2, 2, 2, 2, 2, 2, 2, 2, 2, 2, 2, 2, 2, 2, 2, 2, 2, 2, 2, 2, 2, 2, 2, 2, 2, 2, 2, 2, 2, 2]\n"
     ]
    }
   ],
   "source": [
    "p=Path(\"./Images\")\n",
    "print(p)\n",
    "dirs=p.glob(\"*\")\n",
    "\n",
    "image_data=[]\n",
    "labels=[]\n",
    "\n",
    "label_dict = {\"Pikachu\":0,\"Bulbasaur\":1,\"Charmander\":2}\n",
    "label2pokemon = {0:\"Pikachu\",1:\"Bulbasaur\",2:\"Charmander\"}\n",
    "\n",
    "for img_path in dirs:\n",
    "#     img1=image.load_img(img_path)\n",
    "#     img1_array = image.img_to_array(img1)\n",
    "#     print(img1_array.shape)\n",
    "    img = image.load_img(img_path,target_size=(60,60))\n",
    "    img_array = image.img_to_array(img)\n",
    "    image_data.append(img_array)\n",
    "    img_path=str(img_path)\n",
    "    label_id=img_path.split(\"\\\\\")[-1]\n",
    "    labels.append(label_dict[d[label_id]])\n",
    "    \n",
    "print(labels) \n",
    "\n"
   ]
  },
  {
   "cell_type": "markdown",
   "metadata": {},
   "source": [
    "## visualisation"
   ]
  },
  {
   "cell_type": "code",
   "execution_count": 9,
   "metadata": {},
   "outputs": [],
   "source": [
    "import numpy as np"
   ]
  },
  {
   "cell_type": "code",
   "execution_count": 10,
   "metadata": {},
   "outputs": [
    {
     "name": "stdout",
     "output_type": "stream",
     "text": [
      "304\n",
      "304\n"
     ]
    }
   ],
   "source": [
    "print(len(image_data))\n",
    "print(len(labels))"
   ]
  },
  {
   "cell_type": "code",
   "execution_count": 11,
   "metadata": {},
   "outputs": [],
   "source": [
    "import random\n",
    "random.seed(10)"
   ]
  },
  {
   "cell_type": "code",
   "execution_count": 12,
   "metadata": {},
   "outputs": [
    {
     "data": {
      "text/plain": [
       "list"
      ]
     },
     "execution_count": 12,
     "metadata": {},
     "output_type": "execute_result"
    }
   ],
   "source": [
    "type(image_data)"
   ]
  },
  {
   "cell_type": "code",
   "execution_count": 13,
   "metadata": {},
   "outputs": [],
   "source": [
    "X_train=np.array(image_data)\n",
    "Y_train=np.array(labels)"
   ]
  },
  {
   "cell_type": "code",
   "execution_count": 14,
   "metadata": {},
   "outputs": [],
   "source": [
    "from sklearn.utils import shuffle\n",
    "X_train,Y_train = shuffle(X_train,Y_train,random_state=2)"
   ]
  },
  {
   "cell_type": "code",
   "execution_count": 15,
   "metadata": {},
   "outputs": [
    {
     "data": {
      "text/plain": [
       "(304, 60, 60, 3)"
      ]
     },
     "execution_count": 15,
     "metadata": {},
     "output_type": "execute_result"
    }
   ],
   "source": [
    "X_train.shape"
   ]
  },
  {
   "cell_type": "code",
   "execution_count": 16,
   "metadata": {},
   "outputs": [
    {
     "data": {
      "text/plain": [
       "array([[255., 250., 247.],\n",
       "       [255., 250., 247.],\n",
       "       [255., 250., 247.],\n",
       "       [255., 250., 247.],\n",
       "       [255., 250., 247.],\n",
       "       [255., 250., 247.],\n",
       "       [255., 250., 247.],\n",
       "       [255., 250., 247.],\n",
       "       [255., 250., 247.],\n",
       "       [255., 250., 247.],\n",
       "       [255., 250., 247.],\n",
       "       [255., 250., 247.],\n",
       "       [246., 173., 182.],\n",
       "       [254., 215., 216.],\n",
       "       [255., 250., 247.],\n",
       "       [255., 250., 247.],\n",
       "       [255., 250., 247.],\n",
       "       [255., 250., 247.],\n",
       "       [255., 250., 247.],\n",
       "       [255., 250., 247.],\n",
       "       [255., 250., 247.],\n",
       "       [255., 250., 247.],\n",
       "       [255., 252., 245.],\n",
       "       [251., 247., 176.],\n",
       "       [251., 247., 176.],\n",
       "       [251., 244., 163.],\n",
       "       [254., 244., 157.],\n",
       "       [240., 218., 135.],\n",
       "       [255., 249., 249.],\n",
       "       [255., 250., 247.],\n",
       "       [250., 214., 218.],\n",
       "       [251., 254., 247.],\n",
       "       [234., 215., 136.],\n",
       "       [250., 235., 142.],\n",
       "       [248., 237., 148.],\n",
       "       [250., 238., 162.],\n",
       "       [251., 242., 175.],\n",
       "       [255., 251., 242.],\n",
       "       [255., 250., 247.],\n",
       "       [255., 250., 247.],\n",
       "       [255., 250., 247.],\n",
       "       [255., 250., 247.],\n",
       "       [255., 250., 247.],\n",
       "       [255., 250., 247.],\n",
       "       [255., 250., 247.],\n",
       "       [255., 250., 247.],\n",
       "       [255., 250., 247.],\n",
       "       [252., 251., 249.],\n",
       "       [251., 192., 198.],\n",
       "       [251., 202., 208.],\n",
       "       [255., 249., 249.],\n",
       "       [255., 250., 247.],\n",
       "       [255., 250., 247.],\n",
       "       [255., 250., 247.],\n",
       "       [255., 250., 247.],\n",
       "       [255., 250., 247.],\n",
       "       [255., 250., 247.],\n",
       "       [255., 250., 247.],\n",
       "       [255., 250., 247.],\n",
       "       [255., 250., 247.]], dtype=float32)"
      ]
     },
     "execution_count": 16,
     "metadata": {},
     "output_type": "execute_result"
    }
   ],
   "source": [
    "X_train[0][0]"
   ]
  },
  {
   "cell_type": "markdown",
   "metadata": {},
   "source": [
    "#Neural networks process inputs using small weight values, and inputs with large integer values can disrupt or slow down the learning process. As such it is good practice to normalize the pixel values so that each pixel value has a value between 0 and 1."
   ]
  },
  {
   "cell_type": "code",
   "execution_count": 17,
   "metadata": {},
   "outputs": [],
   "source": [
    "X_train = X_train.astype('float32')\n",
    "#Normalisation\n",
    "X_train = X_train/255.0"
   ]
  },
  {
   "cell_type": "code",
   "execution_count": 18,
   "metadata": {},
   "outputs": [],
   "source": [
    "def drawimg(img,label):\n",
    "    plt.title(label2pokemon[label])\n",
    "    plt.imshow(img)\n",
    "    plt.show()"
   ]
  },
  {
   "cell_type": "code",
   "execution_count": 19,
   "metadata": {},
   "outputs": [
    {
     "data": {
      "image/png": "[encoded data removed]",
      "text/plain": [
       "<Figure size 432x288 with 1 Axes>"
      ]
     },
     "metadata": {
      "needs_background": "light"
     },
     "output_type": "display_data"
    },
    {
     "data": {
      "image/png": "[encoded data removed]",
      "text/plain": [
       "<Figure size 432x288 with 1 Axes>"
      ]
     },
     "metadata": {
      "needs_background": "light"
     },
     "output_type": "display_data"
    },
    {
     "data": {
      "image/png": "[encoded data removed]",
      "text/plain": [
       "<Figure size 432x288 with 1 Axes>"
      ]
     },
     "metadata": {
      "needs_background": "light"
     },
     "output_type": "display_data"
    },
    {
     "data": {
      "image/png": "[encoded data removed]",
      "text/plain": [
       "<Figure size 432x288 with 1 Axes>"
      ]
     },
     "metadata": {
      "needs_background": "light"
     },
     "output_type": "display_data"
    },
    {
     "data": {
      "image/png": "[encoded data removed]",
      "text/plain": [
       "<Figure size 432x288 with 1 Axes>"
      ]
     },
     "metadata": {
      "needs_background": "light"
     },
     "output_type": "display_data"
    },
    {
     "data": {
      "image/png": "[encoded data removed]",
      "text/plain": [
       "<Figure size 432x288 with 1 Axes>"
      ]
     },
     "metadata": {
      "needs_background": "light"
     },
     "output_type": "display_data"
    },
    {
     "data": {
      "image/png": "[encoded data removed]",
      "text/plain": [
       "<Figure size 432x288 with 1 Axes>"
      ]
     },
     "metadata": {
      "needs_background": "light"
     },
     "output_type": "display_data"
    },
    {
     "data": {
      "image/png": "[encoded data removed]",
      "text/plain": [
       "<Figure size 432x288 with 1 Axes>"
      ]
     },
     "metadata": {
      "needs_background": "light"
     },
     "output_type": "display_data"
    },
    {
     "data": {
      "image/png": "[encoded data removed]",
      "text/plain": [
       "<Figure size 432x288 with 1 Axes>"
      ]
     },
     "metadata": {
      "needs_background": "light"
     },
     "output_type": "display_data"
    },
    {
     "data": {
      "image/png": "[encoded data removed]",
      "text/plain": [
       "<Figure size 432x288 with 1 Axes>"
      ]
     },
     "metadata": {
      "needs_background": "light"
     },
     "output_type": "display_data"
    }
   ],
   "source": [
    "for i in range(10):\n",
    "    drawimg(X_train[i],Y_train[i])"
   ]
  },
  {
   "cell_type": "code",
   "execution_count": 32,
   "metadata": {},
   "outputs": [],
   "source": [
    "class NeuralNetwork:\n",
    "    \n",
    "    def __init__(self,input_size,layers,output_size):\n",
    "        np.random.seed(0)\n",
    "        \n",
    "        model = {} #Dictionary\n",
    "        \n",
    "        #First Layer\n",
    "        model['W1'] = np.random.randn(input_size,layers[0])\n",
    "        model['b1'] = np.zeros((1,layers[0]))\n",
    "        \n",
    "        #Second Layer\n",
    "        model['W2'] = np.random.randn(layers[0],layers[1])\n",
    "        model['b2'] = np.zeros((1,layers[1]))\n",
    "        \n",
    "        #Third/Output Layer\n",
    "        model['W3'] = np.random.randn(layers[1],output_size)\n",
    "        model['b3'] = np.zeros((1,output_size))\n",
    "        \n",
    "        self.model = model\n",
    "        self.activation_outputs = None\n",
    "    \n",
    "    def forward(self,x):\n",
    "        \n",
    "        W1,W2,W3 = self.model['W1'],self.model['W2'],self.model['W3']\n",
    "        b1, b2, b3 = self.model['b1'],self.model['b2'],self.model['b3']\n",
    "        \n",
    "        z1 = np.dot(x,W1) + b1\n",
    "        a1 = np.tanh(z1) \n",
    "        \n",
    "        z2 = np.dot(a1,W2) + b2\n",
    "        a2 = np.tanh(z2)\n",
    "        \n",
    "        z3 = np.dot(a2,W3) + b3\n",
    "        y_ = softmax(z3)\n",
    "        \n",
    "        self.activation_outputs = (a1,a2,y_)\n",
    "        return y_\n",
    "        \n",
    "    def backward(self,x,y,learning_rate=0.001):\n",
    "        W1,W2,W3 = self.model['W1'],self.model['W2'],self.model['W3']\n",
    "        b1, b2, b3 = self.model['b1'],self.model['b2'],self.model['b3']\n",
    "        m = x.shape[0]\n",
    "        \n",
    "        a1,a2,y_ = self.activation_outputs\n",
    "        \n",
    "        delta3 = y_ - y\n",
    "        dw3 = np.dot(a2.T,delta3)\n",
    "        db3 = np.sum(delta3,axis=0)\n",
    "        \n",
    "        delta2 = (1-np.square(a2))*np.dot(delta3,W3.T)\n",
    "        dw2 = np.dot(a1.T,delta2)\n",
    "        db2 = np.sum(delta2,axis=0)\n",
    "        \n",
    "        delta1 = (1-np.square(a1))*np.dot(delta2,W2.T)\n",
    "        dw1 = np.dot(X.T,delta1)\n",
    "        db1 = np.sum(delta1,axis=0)\n",
    "        \n",
    "        \n",
    "        #Update the Model Parameters using Gradient Descent\n",
    "        self.model[\"W1\"]  -= learning_rate*dw1\n",
    "        self.model['b1']  -= learning_rate*db1\n",
    "        \n",
    "        self.model[\"W2\"]  -= learning_rate*dw2\n",
    "        self.model['b2']  -= learning_rate*db2\n",
    "        \n",
    "        self.model[\"W3\"]  -= learning_rate*dw3\n",
    "        self.model['b3']  -= learning_rate*db3\n",
    "        \n",
    "        # :)\n",
    "        \n",
    "    def predict(self,x):\n",
    "        y_out = self.forward(x)\n",
    "        return np.argmax(y_out,axis=1)\n",
    "    \n",
    "    def summary(self):\n",
    "        W1,W2,W3 = self.model['W1'],self.model['W2'],self.model['W3']\n",
    "        a1,a2,y_ = self.activation_outputs\n",
    "        \n",
    "        print(\"W1 \",W1.shape)\n",
    "        print(\"A1 \",a1.shape)\n",
    "\n",
    "def softmax(a):\n",
    "    e_pa = np.exp(a) #Vector\n",
    "    ans = e_pa/np.sum(e_pa,axis=1,keepdims=True)\n",
    "    return ans"
   ]
  },
  {
   "cell_type": "code",
   "execution_count": 33,
   "metadata": {},
   "outputs": [],
   "source": [
    "def loss(y_oht,p):\n",
    "    l = -np.mean(y_oht*np.log(p))\n",
    "    return l\n",
    "\n",
    "def one_hot(y,depth):\n",
    "    \n",
    "    m = y.shape[0]\n",
    "    y_oht = np.zeros((m,depth))\n",
    "    y_oht[np.arange(m),y] = 1\n",
    "    return y_oht"
   ]
  },
  {
   "cell_type": "code",
   "execution_count": 34,
   "metadata": {},
   "outputs": [],
   "source": [
    "def train(X,Y,model,epochs,learning_rate,logs=True):\n",
    "    training_loss = []\n",
    "    \n",
    "    classes = 3\n",
    "    Y_OHT = one_hot(Y,classes)\n",
    "    \n",
    "    for ix in range(epochs):\n",
    "        \n",
    "        Y_ = model.forward(X)\n",
    "        l = loss(Y_OHT,Y_)\n",
    "        \n",
    "        model.backward(X,Y_OHT,learning_rate)\n",
    "        training_loss.append(l)\n",
    "        if(logs and ix%50==0):\n",
    "            print(\"Epoch %d Loss %.4f\"%(ix,l))\n",
    "            \n",
    "            \n",
    "    \n",
    "    return training_loss"
   ]
  },
  {
   "cell_type": "code",
   "execution_count": 38,
   "metadata": {},
   "outputs": [],
   "source": [
    "model = NeuralNetwork(input_size=(60*60*3),layers=[100,50],output_size=3)"
   ]
  },
  {
   "cell_type": "code",
   "execution_count": 49,
   "metadata": {},
   "outputs": [
    {
     "name": "stdout",
     "output_type": "stream",
     "text": [
      "(304, 10800)\n"
     ]
    }
   ],
   "source": [
    "##Reshape\n",
    "X_train = X_train.reshape(X_train.shape[0],-1)\n",
    "print(X_train.shape)"
   ]
  },
  {
   "cell_type": "code",
   "execution_count": 50,
   "metadata": {},
   "outputs": [
    {
     "name": "stdout",
     "output_type": "stream",
     "text": [
      "Epoch 0 Loss 0.0319\n",
      "Epoch 50 Loss 0.0291\n",
      "Epoch 100 Loss 0.0269\n",
      "Epoch 150 Loss 0.0251\n",
      "Epoch 200 Loss 0.0234\n",
      "Epoch 250 Loss 0.0220\n",
      "Epoch 300 Loss 0.0206\n",
      "Epoch 350 Loss 0.0194\n",
      "Epoch 400 Loss 0.0184\n",
      "Epoch 450 Loss 0.0175\n"
     ]
    }
   ],
   "source": [
    "l = train(X_train,Y_train,model,500,0.0002)"
   ]
  },
  {
   "cell_type": "code",
   "execution_count": 51,
   "metadata": {},
   "outputs": [
    {
     "data": {
      "image/png": "[encoded data removed]",
      "text/plain": [
       "<Figure size 432x288 with 1 Axes>"
      ]
     },
     "metadata": {},
     "output_type": "display_data"
    }
   ],
   "source": [
    "from matplotlib import pyplot as plt\n",
    "plt.style.use(\"dark_background\")\n",
    "plt.title(\"Training Loss vs Epochs\")\n",
    "plt.plot(l)\n",
    "\n",
    "plt.show()"
   ]
  },
  {
   "cell_type": "code",
   "execution_count": 52,
   "metadata": {},
   "outputs": [],
   "source": [
    "##get Accuracy\n",
    "\n",
    "def getAccuracy(X,Y,model):\n",
    "    output=model.predict(X)\n",
    "    acc=np.sum(output==Y)/(Y.shape[0])\n",
    "    \n",
    "    return acc\n"
   ]
  },
  {
   "cell_type": "code",
   "execution_count": 53,
   "metadata": {},
   "outputs": [
    {
     "name": "stdout",
     "output_type": "stream",
     "text": [
      "Train Accuracy 0.9934\n"
     ]
    }
   ],
   "source": [
    "print(\"Train Accuracy %.4f\"%getAccuracy(X_train,Y_train,model))"
   ]
  },
  {
   "cell_type": "code",
   "execution_count": 54,
   "metadata": {},
   "outputs": [
    {
     "name": "stdout",
     "output_type": "stream",
     "text": [
      "Images1\n",
      "['1100.jpg', '1101.jpg', '1102.jpg', '1103.jpg', '1104.jpg', '1105.jpg', '1106.jpg', '1107.jpg', '1108.jpg', '1109.jpg', '1110.jpg', '1111.jpg', '1112.jpg', '1113.jpg', '1114.jpg', '1115.jpg', '1116.jpg', '1117.jpg', '1118.jpg', '1119.jpg', '1120.jpg', '1121.jpg', '1122.jpg', '1123.jpg', '1124.jpg', '1125.jpg', '1126.jpg', '1127.jpg', '1128.jpg', '1129.jpg', '1130.jpg', '1131.jpg', '1132.jpg', '1133.jpg', '1134.jpg', '1135.jpg', '1136.jpg', '1137.jpg', '1138.jpg', '1139.jpg', '1140.jpg', '2000.jpg', '2001.jpg', '2002.jpg', '2003.jpg', '2004.jpg', '2005.jpg', '2006.jpg', '2007.jpg', '2008.jpg', '2009.jpg', '2010.jpg', '2011.jpg', '2012.jpg', '2013.jpg', '2014.jpg', '2015.jpg', '2016.jpg', '2017.jpg', '2018.jpg', '2019.jpg', '2020.jpg', '2021.jpg', '2022.jpg', '2023.jpg', '2024.jpg', '2025.jpg', '2026.jpg', '2027.jpg', '2028.jpg', '2029.jpg', '2030.jpg', '2031.jpg', '2032.jpg', '2033.jpg', '2034.jpg', '2035.jpg', '2036.jpg', '2037.jpg', '2038.jpg', '2039.jpg', '2040.jpg', '2200.jpg', '2201.jpg', '2202.jpg', '2203.jpg', '2204.jpg', '2205.jpg', '2206.jpg', '2207.jpg', '2208.jpg', '2209.jpg', '2210.jpg', '2211.jpg', '2212.jpg', '2213.jpg', '2214.jpg', '2215.jpg', '2216.jpg', '2217.jpg', '2218.jpg', '2219.jpg', '2220.jpg', '2221.jpg', '2222.jpg', '2223.jpg', '2224.jpg', '2225.jpg', '2226.jpg', '2227.jpg', '2228.jpg', '2229.jpg', '2230.jpg', '2231.jpg', '2232.jpg', '2233.jpg', '2234.jpg', '2235.jpg', '2236.jpg', '2237.jpg', '2238.jpg', '2239.jpg', '2240.jpg']\n"
     ]
    }
   ],
   "source": [
    "##test data\n",
    "p=Path(\"./Images1\")\n",
    "print(p)\n",
    "dirs=p.glob(\"*\")\n",
    "\n",
    "X_test=[]\n",
    "Y_test=[]\n",
    "\n",
    "for img_path in dirs:\n",
    "#     img1=image.load_img(img_path)\n",
    "#     img1_array = image.img_to_array(img1)\n",
    "#     print(img1_array.shape)\n",
    "    img = image.load_img(img_path,target_size=(60,60))\n",
    "    img_array = image.img_to_array(img)\n",
    "    X_test.append(img_array)\n",
    "    img_path=str(img_path)\n",
    "    label_id=img_path.split(\"\\\\\")[-1]\n",
    "    Y_test.append(label_id)\n",
    "    \n",
    "print(Y_test) \n",
    "\n"
   ]
  },
  {
   "cell_type": "code",
   "execution_count": 55,
   "metadata": {},
   "outputs": [],
   "source": [
    "X_test=np.array(X_test)\n",
    "X_test = X_test.astype('float32')\n",
    "#Normalisation\n",
    "X_test = X_test/255.0"
   ]
  },
  {
   "cell_type": "code",
   "execution_count": 57,
   "metadata": {},
   "outputs": [
    {
     "name": "stdout",
     "output_type": "stream",
     "text": [
      "(123, 10800)\n"
     ]
    }
   ],
   "source": [
    "##Reshape\n",
    "X_test = X_test.reshape(X_test.shape[0],-1)\n",
    "print(X_test.shape)"
   ]
  },
  {
   "cell_type": "code",
   "execution_count": 58,
   "metadata": {},
   "outputs": [],
   "source": [
    "Y_pred=model.predict(X_test)"
   ]
  },
  {
   "cell_type": "code",
   "execution_count": 59,
   "metadata": {},
   "outputs": [
    {
     "data": {
      "text/plain": [
       "array([1, 1, 1, 1, 1, 1, 1, 1, 1, 1, 1, 1, 1, 1, 1, 1, 1, 1, 1, 1, 1, 1,\n",
       "       1, 1, 1, 1, 1, 1, 1, 1, 1, 1, 1, 1, 1, 1, 1, 1, 1, 1, 1, 0, 0, 0,\n",
       "       0, 0, 2, 0, 0, 0, 1, 2, 0, 0, 1, 0, 2, 0, 1, 0, 2, 0, 0, 1, 2, 0,\n",
       "       2, 2, 0, 0, 2, 2, 0, 0, 0, 0, 0, 2, 2, 1, 0, 2, 2, 2, 2, 2, 2, 2,\n",
       "       2, 2, 2, 2, 2, 2, 2, 2, 2, 2, 2, 2, 2, 2, 2, 2, 2, 2, 2, 2, 2, 2,\n",
       "       2, 2, 2, 1, 0, 2, 2, 2, 2, 2, 2, 2, 2], dtype=int64)"
      ]
     },
     "execution_count": 59,
     "metadata": {},
     "output_type": "execute_result"
    }
   ],
   "source": [
    "Y_pred"
   ]
  },
  {
   "cell_type": "code",
   "execution_count": 64,
   "metadata": {},
   "outputs": [
    {
     "data": {
      "text/plain": [
       "{'1100.jpg': 'Bulbasaur',\n",
       " '1101.jpg': 'Bulbasaur',\n",
       " '1102.jpg': 'Bulbasaur',\n",
       " '1103.jpg': 'Bulbasaur',\n",
       " '1104.jpg': 'Bulbasaur',\n",
       " '1105.jpg': 'Bulbasaur',\n",
       " '1106.jpg': 'Bulbasaur',\n",
       " '1107.jpg': 'Bulbasaur',\n",
       " '1108.jpg': 'Bulbasaur',\n",
       " '1109.jpg': 'Bulbasaur',\n",
       " '1110.jpg': 'Bulbasaur',\n",
       " '1111.jpg': 'Bulbasaur',\n",
       " '1112.jpg': 'Bulbasaur',\n",
       " '1113.jpg': 'Bulbasaur',\n",
       " '1114.jpg': 'Bulbasaur',\n",
       " '1115.jpg': 'Bulbasaur',\n",
       " '1116.jpg': 'Bulbasaur',\n",
       " '1117.jpg': 'Bulbasaur',\n",
       " '1118.jpg': 'Bulbasaur',\n",
       " '1119.jpg': 'Bulbasaur',\n",
       " '1120.jpg': 'Bulbasaur',\n",
       " '1121.jpg': 'Bulbasaur',\n",
       " '1122.jpg': 'Bulbasaur',\n",
       " '1123.jpg': 'Bulbasaur',\n",
       " '1124.jpg': 'Bulbasaur',\n",
       " '1125.jpg': 'Bulbasaur',\n",
       " '1126.jpg': 'Bulbasaur',\n",
       " '1127.jpg': 'Bulbasaur',\n",
       " '1128.jpg': 'Bulbasaur',\n",
       " '1129.jpg': 'Bulbasaur',\n",
       " '1130.jpg': 'Bulbasaur',\n",
       " '1131.jpg': 'Bulbasaur',\n",
       " '1132.jpg': 'Bulbasaur',\n",
       " '1133.jpg': 'Bulbasaur',\n",
       " '1134.jpg': 'Bulbasaur',\n",
       " '1135.jpg': 'Bulbasaur',\n",
       " '1136.jpg': 'Bulbasaur',\n",
       " '1137.jpg': 'Bulbasaur',\n",
       " '1138.jpg': 'Bulbasaur',\n",
       " '1139.jpg': 'Bulbasaur',\n",
       " '1140.jpg': 'Bulbasaur',\n",
       " '2000.jpg': 'Pikachu',\n",
       " '2001.jpg': 'Pikachu',\n",
       " '2002.jpg': 'Pikachu',\n",
       " '2003.jpg': 'Pikachu',\n",
       " '2004.jpg': 'Pikachu',\n",
       " '2005.jpg': 'Charmander',\n",
       " '2006.jpg': 'Pikachu',\n",
       " '2007.jpg': 'Pikachu',\n",
       " '2008.jpg': 'Pikachu',\n",
       " '2009.jpg': 'Bulbasaur',\n",
       " '2010.jpg': 'Charmander',\n",
       " '2011.jpg': 'Pikachu',\n",
       " '2012.jpg': 'Pikachu',\n",
       " '2013.jpg': 'Bulbasaur',\n",
       " '2014.jpg': 'Pikachu',\n",
       " '2015.jpg': 'Charmander',\n",
       " '2016.jpg': 'Pikachu',\n",
       " '2017.jpg': 'Bulbasaur',\n",
       " '2018.jpg': 'Pikachu',\n",
       " '2019.jpg': 'Charmander',\n",
       " '2020.jpg': 'Pikachu',\n",
       " '2021.jpg': 'Pikachu',\n",
       " '2022.jpg': 'Bulbasaur',\n",
       " '2023.jpg': 'Charmander',\n",
       " '2024.jpg': 'Pikachu',\n",
       " '2025.jpg': 'Charmander',\n",
       " '2026.jpg': 'Charmander',\n",
       " '2027.jpg': 'Pikachu',\n",
       " '2028.jpg': 'Pikachu',\n",
       " '2029.jpg': 'Charmander',\n",
       " '2030.jpg': 'Charmander',\n",
       " '2031.jpg': 'Pikachu',\n",
       " '2032.jpg': 'Pikachu',\n",
       " '2033.jpg': 'Pikachu',\n",
       " '2034.jpg': 'Pikachu',\n",
       " '2035.jpg': 'Pikachu',\n",
       " '2036.jpg': 'Charmander',\n",
       " '2037.jpg': 'Charmander',\n",
       " '2038.jpg': 'Bulbasaur',\n",
       " '2039.jpg': 'Pikachu',\n",
       " '2040.jpg': 'Charmander',\n",
       " '2200.jpg': 'Charmander',\n",
       " '2201.jpg': 'Charmander',\n",
       " '2202.jpg': 'Charmander',\n",
       " '2203.jpg': 'Charmander',\n",
       " '2204.jpg': 'Charmander',\n",
       " '2205.jpg': 'Charmander',\n",
       " '2206.jpg': 'Charmander',\n",
       " '2207.jpg': 'Charmander',\n",
       " '2208.jpg': 'Charmander',\n",
       " '2209.jpg': 'Charmander',\n",
       " '2210.jpg': 'Charmander',\n",
       " '2211.jpg': 'Charmander',\n",
       " '2212.jpg': 'Charmander',\n",
       " '2213.jpg': 'Charmander',\n",
       " '2214.jpg': 'Charmander',\n",
       " '2215.jpg': 'Charmander',\n",
       " '2216.jpg': 'Charmander',\n",
       " '2217.jpg': 'Charmander',\n",
       " '2218.jpg': 'Charmander',\n",
       " '2219.jpg': 'Charmander',\n",
       " '2220.jpg': 'Charmander',\n",
       " '2221.jpg': 'Charmander',\n",
       " '2222.jpg': 'Charmander',\n",
       " '2223.jpg': 'Charmander',\n",
       " '2224.jpg': 'Charmander',\n",
       " '2225.jpg': 'Charmander',\n",
       " '2226.jpg': 'Charmander',\n",
       " '2227.jpg': 'Charmander',\n",
       " '2228.jpg': 'Charmander',\n",
       " '2229.jpg': 'Charmander',\n",
       " '2230.jpg': 'Charmander',\n",
       " '2231.jpg': 'Bulbasaur',\n",
       " '2232.jpg': 'Pikachu',\n",
       " '2233.jpg': 'Charmander',\n",
       " '2234.jpg': 'Charmander',\n",
       " '2235.jpg': 'Charmander',\n",
       " '2236.jpg': 'Charmander',\n",
       " '2237.jpg': 'Charmander',\n",
       " '2238.jpg': 'Charmander',\n",
       " '2239.jpg': 'Charmander',\n",
       " '2240.jpg': 'Charmander'}"
      ]
     },
     "execution_count": 64,
     "metadata": {},
     "output_type": "execute_result"
    }
   ],
   "source": [
    "output_dict={}\n",
    "for idx,img_id in enumerate( Y_test):\n",
    "    \n",
    "    output_dict[img_id]=label2pokemon[Y_pred[idx]]\n",
    "output_dict\n",
    "    "
   ]
  },
  {
   "cell_type": "code",
   "execution_count": 67,
   "metadata": {},
   "outputs": [
    {
     "data": {
      "text/plain": [
       "['ImageId',\n",
       " '1106.jpg',\n",
       " '2236.jpg',\n",
       " '1131.jpg',\n",
       " '2221.jpg',\n",
       " '2011.jpg',\n",
       " '2030.jpg',\n",
       " '2035.jpg',\n",
       " '1110.jpg',\n",
       " '1104.jpg',\n",
       " '2217.jpg',\n",
       " '1111.jpg',\n",
       " '1100.jpg',\n",
       " '1112.jpg',\n",
       " '1138.jpg',\n",
       " '2238.jpg',\n",
       " '2009.jpg',\n",
       " '2225.jpg',\n",
       " '2240.jpg',\n",
       " '2020.jpg',\n",
       " '2209.jpg',\n",
       " '2029.jpg',\n",
       " '1114.jpg',\n",
       " '2201.jpg',\n",
       " '1118.jpg',\n",
       " '2025.jpg',\n",
       " '2202.jpg',\n",
       " '1117.jpg',\n",
       " '1119.jpg',\n",
       " '2000.jpg',\n",
       " '2007.jpg',\n",
       " '2039.jpg',\n",
       " '2017.jpg',\n",
       " '2215.jpg',\n",
       " '1120.jpg',\n",
       " '2006.jpg',\n",
       " '1116.jpg',\n",
       " '1128.jpg',\n",
       " '1125.jpg',\n",
       " '2203.jpg',\n",
       " '1133.jpg',\n",
       " '1137.jpg',\n",
       " '2220.jpg',\n",
       " '2012.jpg',\n",
       " '2224.jpg',\n",
       " '2206.jpg',\n",
       " '1122.jpg',\n",
       " '2223.jpg',\n",
       " '1102.jpg',\n",
       " '2234.jpg',\n",
       " '2216.jpg',\n",
       " '2016.jpg',\n",
       " '2227.jpg',\n",
       " '2013.jpg',\n",
       " '1113.jpg',\n",
       " '2204.jpg',\n",
       " '1101.jpg',\n",
       " '2208.jpg',\n",
       " '2024.jpg',\n",
       " '2031.jpg',\n",
       " '2222.jpg',\n",
       " '2211.jpg',\n",
       " '2033.jpg',\n",
       " '2213.jpg',\n",
       " '2231.jpg',\n",
       " '2001.jpg',\n",
       " '2040.jpg',\n",
       " '1127.jpg',\n",
       " '2023.jpg',\n",
       " '2015.jpg',\n",
       " '1121.jpg',\n",
       " '2232.jpg',\n",
       " '1139.jpg',\n",
       " '1103.jpg',\n",
       " '2018.jpg',\n",
       " '2233.jpg',\n",
       " '2212.jpg',\n",
       " '2210.jpg',\n",
       " '2228.jpg',\n",
       " '2026.jpg',\n",
       " '1132.jpg',\n",
       " '2003.jpg',\n",
       " '1129.jpg',\n",
       " '2214.jpg',\n",
       " '1123.jpg',\n",
       " '2004.jpg',\n",
       " '1136.jpg',\n",
       " '1140.jpg',\n",
       " '2226.jpg',\n",
       " '2230.jpg',\n",
       " '1135.jpg',\n",
       " '1105.jpg',\n",
       " '2237.jpg',\n",
       " '1109.jpg',\n",
       " '2022.jpg',\n",
       " '2005.jpg',\n",
       " '2218.jpg',\n",
       " '2036.jpg',\n",
       " '1115.jpg',\n",
       " '2032.jpg',\n",
       " '2200.jpg',\n",
       " '1134.jpg',\n",
       " '1130.jpg',\n",
       " '1107.jpg',\n",
       " '2034.jpg',\n",
       " '2205.jpg',\n",
       " '2008.jpg',\n",
       " '2027.jpg',\n",
       " '2028.jpg',\n",
       " '2239.jpg',\n",
       " '1108.jpg',\n",
       " '2010.jpg',\n",
       " '2229.jpg',\n",
       " '2219.jpg',\n",
       " '2019.jpg',\n",
       " '2207.jpg',\n",
       " '2002.jpg',\n",
       " '2037.jpg',\n",
       " '2038.jpg',\n",
       " '1124.jpg',\n",
       " '2014.jpg',\n",
       " '2235.jpg',\n",
       " '1126.jpg',\n",
       " '2021.jpg']"
      ]
     },
     "execution_count": 67,
     "metadata": {},
     "output_type": "execute_result"
    }
   ],
   "source": [
    "ids=[]\n",
    "import csv\n",
    "with open(\"test.csv\") as f:\n",
    "    file_data=csv.reader(f)\n",
    "    \n",
    "    for row in file_data:\n",
    "        ids.append(row[0])\n",
    "        "
   ]
  },
  {
   "cell_type": "code",
   "execution_count": 71,
   "metadata": {},
   "outputs": [
    {
     "name": "stdout",
     "output_type": "stream",
     "text": [
      "ImageId,NameOfPokemon\n",
      "\n",
      "1106.jpg,Bulbasaur\n",
      "\n",
      "2236.jpg,Charmander\n",
      "\n",
      "1131.jpg,Bulbasaur\n",
      "\n",
      "2221.jpg,Charmander\n",
      "\n",
      "2011.jpg,Pikachu\n",
      "\n",
      "2030.jpg,Charmander\n",
      "\n",
      "2035.jpg,Pikachu\n",
      "\n",
      "1110.jpg,Bulbasaur\n",
      "\n",
      "1104.jpg,Bulbasaur\n",
      "\n",
      "2217.jpg,Charmander\n",
      "\n",
      "1111.jpg,Bulbasaur\n",
      "\n",
      "1100.jpg,Bulbasaur\n",
      "\n",
      "1112.jpg,Bulbasaur\n",
      "\n",
      "1138.jpg,Bulbasaur\n",
      "\n",
      "2238.jpg,Charmander\n",
      "\n",
      "2009.jpg,Bulbasaur\n",
      "\n",
      "2225.jpg,Charmander\n",
      "\n",
      "2240.jpg,Charmander\n",
      "\n",
      "2020.jpg,Pikachu\n",
      "\n",
      "2209.jpg,Charmander\n",
      "\n",
      "2029.jpg,Charmander\n",
      "\n",
      "1114.jpg,Bulbasaur\n",
      "\n",
      "2201.jpg,Charmander\n",
      "\n",
      "1118.jpg,Bulbasaur\n",
      "\n",
      "2025.jpg,Charmander\n",
      "\n",
      "2202.jpg,Charmander\n",
      "\n",
      "1117.jpg,Bulbasaur\n",
      "\n",
      "1119.jpg,Bulbasaur\n",
      "\n",
      "2000.jpg,Pikachu\n",
      "\n",
      "2007.jpg,Pikachu\n",
      "\n",
      "2039.jpg,Pikachu\n",
      "\n",
      "2017.jpg,Bulbasaur\n",
      "\n",
      "2215.jpg,Charmander\n",
      "\n",
      "1120.jpg,Bulbasaur\n",
      "\n",
      "2006.jpg,Pikachu\n",
      "\n",
      "1116.jpg,Bulbasaur\n",
      "\n",
      "1128.jpg,Bulbasaur\n",
      "\n",
      "1125.jpg,Bulbasaur\n",
      "\n",
      "2203.jpg,Charmander\n",
      "\n",
      "1133.jpg,Bulbasaur\n",
      "\n",
      "1137.jpg,Bulbasaur\n",
      "\n",
      "2220.jpg,Charmander\n",
      "\n",
      "2012.jpg,Pikachu\n",
      "\n",
      "2224.jpg,Charmander\n",
      "\n",
      "2206.jpg,Charmander\n",
      "\n",
      "1122.jpg,Bulbasaur\n",
      "\n",
      "2223.jpg,Charmander\n",
      "\n",
      "1102.jpg,Bulbasaur\n",
      "\n",
      "2234.jpg,Charmander\n",
      "\n",
      "2216.jpg,Charmander\n",
      "\n",
      "2016.jpg,Pikachu\n",
      "\n",
      "2227.jpg,Charmander\n",
      "\n",
      "2013.jpg,Bulbasaur\n",
      "\n",
      "1113.jpg,Bulbasaur\n",
      "\n",
      "2204.jpg,Charmander\n",
      "\n",
      "1101.jpg,Bulbasaur\n",
      "\n",
      "2208.jpg,Charmander\n",
      "\n",
      "2024.jpg,Pikachu\n",
      "\n",
      "2031.jpg,Pikachu\n",
      "\n",
      "2222.jpg,Charmander\n",
      "\n",
      "2211.jpg,Charmander\n",
      "\n",
      "2033.jpg,Pikachu\n",
      "\n",
      "2213.jpg,Charmander\n",
      "\n",
      "2231.jpg,Bulbasaur\n",
      "\n",
      "2001.jpg,Pikachu\n",
      "\n",
      "2040.jpg,Charmander\n",
      "\n",
      "1127.jpg,Bulbasaur\n",
      "\n",
      "2023.jpg,Charmander\n",
      "\n",
      "2015.jpg,Charmander\n",
      "\n",
      "1121.jpg,Bulbasaur\n",
      "\n",
      "2232.jpg,Pikachu\n",
      "\n",
      "1139.jpg,Bulbasaur\n",
      "\n",
      "1103.jpg,Bulbasaur\n",
      "\n",
      "2018.jpg,Pikachu\n",
      "\n",
      "2233.jpg,Charmander\n",
      "\n",
      "2212.jpg,Charmander\n",
      "\n",
      "2210.jpg,Charmander\n",
      "\n",
      "2228.jpg,Charmander\n",
      "\n",
      "2026.jpg,Charmander\n",
      "\n",
      "1132.jpg,Bulbasaur\n",
      "\n",
      "2003.jpg,Pikachu\n",
      "\n",
      "1129.jpg,Bulbasaur\n",
      "\n",
      "2214.jpg,Charmander\n",
      "\n",
      "1123.jpg,Bulbasaur\n",
      "\n",
      "2004.jpg,Pikachu\n",
      "\n",
      "1136.jpg,Bulbasaur\n",
      "\n",
      "1140.jpg,Bulbasaur\n",
      "\n",
      "2226.jpg,Charmander\n",
      "\n",
      "2230.jpg,Charmander\n",
      "\n",
      "1135.jpg,Bulbasaur\n",
      "\n",
      "1105.jpg,Bulbasaur\n",
      "\n",
      "2237.jpg,Charmander\n",
      "\n",
      "1109.jpg,Bulbasaur\n",
      "\n",
      "2022.jpg,Bulbasaur\n",
      "\n",
      "2005.jpg,Charmander\n",
      "\n",
      "2218.jpg,Charmander\n",
      "\n",
      "2036.jpg,Charmander\n",
      "\n",
      "1115.jpg,Bulbasaur\n",
      "\n",
      "2032.jpg,Pikachu\n",
      "\n",
      "2200.jpg,Charmander\n",
      "\n",
      "1134.jpg,Bulbasaur\n",
      "\n",
      "1130.jpg,Bulbasaur\n",
      "\n",
      "1107.jpg,Bulbasaur\n",
      "\n",
      "2034.jpg,Pikachu\n",
      "\n",
      "2205.jpg,Charmander\n",
      "\n",
      "2008.jpg,Pikachu\n",
      "\n",
      "2027.jpg,Pikachu\n",
      "\n",
      "2028.jpg,Pikachu\n",
      "\n",
      "2239.jpg,Charmander\n",
      "\n",
      "1108.jpg,Bulbasaur\n",
      "\n",
      "2010.jpg,Charmander\n",
      "\n",
      "2229.jpg,Charmander\n",
      "\n",
      "2219.jpg,Charmander\n",
      "\n",
      "2019.jpg,Charmander\n",
      "\n",
      "2207.jpg,Charmander\n",
      "\n",
      "2002.jpg,Pikachu\n",
      "\n",
      "2037.jpg,Charmander\n",
      "\n",
      "2038.jpg,Bulbasaur\n",
      "\n",
      "1124.jpg,Bulbasaur\n",
      "\n",
      "2014.jpg,Pikachu\n",
      "\n",
      "2235.jpg,Charmander\n",
      "\n",
      "1126.jpg,Bulbasaur\n",
      "\n",
      "2021.jpg,Pikachu\n",
      "\n"
     ]
    }
   ],
   "source": [
    "output_dict['ImageId']='NameOfPokemon'\n",
    "with open('ans.csv','w') as f:\n",
    "    \n",
    "    for i in ids:\n",
    "        st=i+\",\"+ output_dict[i]+'\\n'\n",
    "        print(st)\n",
    "        f.write(st)\n",
    "    "
   ]
  },
  {
   "cell_type": "code",
   "execution_count": null,
   "metadata": {},
   "outputs": [],
   "source": []
  }
 ],
 "metadata": {
  "kernelspec": {
   "display_name": "Python 3",
   "language": "python",
   "name": "python3"
  },
  "language_info": {
   "codemirror_mode": {
    "name": "ipython",
    "version": 3
   },
   "file_extension": ".py",
   "mimetype": "text/x-python",
   "name": "python",
   "nbconvert_exporter": "python",
   "pygments_lexer": "ipython3",
   "version": "3.7.4"
  }
 },
 "nbformat": 4,
 "nbformat_minor": 2
}
